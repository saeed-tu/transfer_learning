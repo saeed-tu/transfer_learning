{
 "cells": [
  {
   "cell_type": "code",
   "execution_count": null,
   "metadata": {},
   "outputs": [],
   "source": [
    "'''\n",
    "<Transfer Learning with Fine-tuning>\n",
    "In this script, we implement a simple transfer learning example with fine-tuning for the task of classifying\n",
    "cats and dogs using a trained model of VGG19 on ImageNet dataset. \n",
    "We remove the last FC layers of the VGG19 and attach a simple top model classifier. \n",
    "We have also chosen to fine tune the last block (block5) of VGG16 model and our top model which would increase the accuracy.\n",
    "'''\n",
    "\n",
    "from keras import applications\n",
    "from keras.preprocessing.image import ImageDataGenerator\n",
    "from keras import optimizers\n",
    "from keras.models import Sequential\n",
    "from keras.layers import Dropout, Flatten, Dense\n",
    "from keras.models import Model\n",
    "\n",
    "# set parameters here\n",
    "# path to top model weights\n",
    "top_model_weights_path = '\\\\bottleneck_fc_model_vgg19.h5'\n",
    "# image size\n",
    "img_width, img_height = 150, 150\n",
    "# path to train and validation data, note that each folder includes subfolders of subtypes, e.g. cat and dog\n",
    "train_data_dir = '\\\\data\\\\all\\\\train'\n",
    "validation_data_dir = '\\\\data\\\\all\\\\validation'\n",
    "# total number of images for training\n",
    "nb_train_samples = 2000\n",
    "# total number of images for validation\n",
    "nb_validation_samples = 800\n",
    "\n",
    "epochs = 50\n",
    "batch_size = 16\n",
    "\n",
    "# load VGG19 network with ImageNet weights as base_model\n",
    "base_model = applications.VGG19(weights='imagenet', include_top=False, input_shape = (img_width, img_height, 3))\n",
    "print('VGG19 model is loaded ...')\n",
    "\n",
    "# build a top classifier model and attach to the VGG19 model\n",
    "top_model = Sequential()\n",
    "top_model.add(Flatten(input_shape=base_model.output_shape[1:]))\n",
    "top_model.add(Dense(256, activation='relu'))\n",
    "top_model.add(Dropout(0.5))\n",
    "top_model.add(Dense(1, activation='sigmoid'))\n",
    "print('Top model is created ...')\n",
    "\n",
    "\n",
    "# load top model trained weightes\n",
    "top_model.load_weights(top_model_weights_path)\n",
    "print('Top model weights loaded ...')\n",
    "\n",
    "# add the model on top of the convolutional base\n",
    "# model.add(top_model)\n",
    "model = Model(input= base_model.input, output= top_model(base_model.output))\n",
    "\n",
    "# set the first 17 layers of VGG19 to non-trainable\n",
    "for layer in model.layers[:17]:\n",
    "    layer.trainable = False\n",
    "\n",
    "# compile the model\n",
    "model.compile(loss='binary_crossentropy',\n",
    "              optimizer=optimizers.SGD(lr=1e-4, momentum=0.9),\n",
    "              metrics=['accuracy'])\n",
    "\n",
    "# data augmentation configuration\n",
    "train_datagen = ImageDataGenerator(\n",
    "    rescale=1. / 255,\n",
    "    shear_range=0.2,\n",
    "    zoom_range=0.2,\n",
    "    horizontal_flip=True)\n",
    "\n",
    "test_datagen = ImageDataGenerator(rescale=1. / 255)\n",
    "\n",
    "train_generator = train_datagen.flow_from_directory(\n",
    "    train_data_dir,\n",
    "    target_size=(img_height, img_width),\n",
    "    batch_size=batch_size,\n",
    "    class_mode='binary')\n",
    "\n",
    "validation_generator = test_datagen.flow_from_directory(\n",
    "    validation_data_dir,\n",
    "    target_size=(img_height, img_width),\n",
    "    batch_size=batch_size,\n",
    "    class_mode='binary')\n",
    "\n",
    "# fine-tune the model\n",
    "history = model.fit_generator(\n",
    "    train_generator,\n",
    "    samples_per_epoch=nb_train_samples,\n",
    "    epochs=epochs,\n",
    "    validation_data=validation_generator,\n",
    "    nb_val_samples=nb_validation_samples)\n"
   ]
  },
  {
   "cell_type": "code",
   "execution_count": null,
   "metadata": {
    "collapsed": true
   },
   "outputs": [],
   "source": [
    "# save model and weights\n",
    "model.save_weights('model_weights_TransferLearning_FineTuning_EasyCatDog_vgg19.h5')\n",
    "\n",
    "# Save the model architecture\n",
    "with open('model_architecture_TransferLearning_FineTuning_EasyCatDog_vgg19.json', 'w') as f:\n",
    "    f.write(model.to_json())"
   ]
  },
  {
   "cell_type": "code",
   "execution_count": null,
   "metadata": {
    "collapsed": true
   },
   "outputs": [],
   "source": [
    "# load back model and weights from saved files\n",
    "from keras.models import model_from_json\n",
    "\n",
    "# Model reconstruction from JSON file\n",
    "with open('model_architecture_TransferLearning_FineTuning_EasyCatDog_vgg19.json', 'r') as f:\n",
    "    model = model_from_json(f.read())\n",
    "\n",
    "# Load weights into the new model\n",
    "model.load_weights('model_weights_TransferLearning_FineTuning_EasyCatDog_vgg19.h5')"
   ]
  },
  {
   "cell_type": "code",
   "execution_count": null,
   "metadata": {},
   "outputs": [],
   "source": [
    "# save model block-wise illustration as tiff image\n",
    "from keras.utils import plot_model\n",
    "model.summary()\n",
    "plot_model(model, to_file='model_vgg19_topmodel.tiff', show_shapes=True)"
   ]
  },
  {
   "cell_type": "code",
   "execution_count": null,
   "metadata": {},
   "outputs": [],
   "source": [
    "# plot accuracya nd loss plots for train and val data\n",
    "import matplotlib.pyplot as plt\n",
    "print(history.history.keys())\n",
    "# accuracy\n",
    "plt.plot(history.history['acc'])\n",
    "plt.plot(history.history['val_acc'])\n",
    "plt.title('Model accuracy')\n",
    "plt.ylabel('Accuracy')\n",
    "plt.xlabel('Epoch')\n",
    "plt.legend(['train', 'validation'], loc='lower right')\n",
    "plt.show()\n",
    "# loss\n",
    "plt.plot(history.history['loss'])\n",
    "plt.plot(history.history['val_loss'])\n",
    "plt.title('Model loss')\n",
    "plt.ylabel('Loss')\n",
    "plt.xlabel('Epoch')\n",
    "plt.legend(['train', 'validation'], loc='center right')\n",
    "plt.show()"
   ]
  },
  {
   "cell_type": "code",
   "execution_count": null,
   "metadata": {
    "collapsed": true
   },
   "outputs": [],
   "source": []
  }
 ],
 "metadata": {
  "kernelspec": {
   "display_name": "Python 3",
   "language": "python",
   "name": "python3"
  },
  "language_info": {
   "codemirror_mode": {
    "name": "ipython",
    "version": 3
   },
   "file_extension": ".py",
   "mimetype": "text/x-python",
   "name": "python",
   "nbconvert_exporter": "python",
   "pygments_lexer": "ipython3",
   "version": "3.5.2"
  }
 },
 "nbformat": 4,
 "nbformat_minor": 2
}
